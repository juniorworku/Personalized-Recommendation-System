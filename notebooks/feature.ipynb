{
 "cells": [
  {
   "cell_type": "code",
   "execution_count": 1,
   "metadata": {},
   "outputs": [
    {
     "name": "stdout",
     "output_type": "stream",
     "text": [
      "⛳️ Local environment\n",
      "Adding the following directory to the PYTHONPATH: c:\\Users\\haileyesus\\Desktop\\DEV\\Real-Time-Personalized-Recommender\n"
     ]
    }
   ],
   "source": [
    "import sys\n",
    "from pathlib import Path\n",
    "\n",
    "def is_google_colab() -> bool:\n",
    "    if \"google.colab\" in str(get_ipython()):\n",
    "        return True\n",
    "    return False\n",
    "\n",
    "def clone_repository() -> None:\n",
    "    !git clone https://github.com/decodingml/hands-on-recommender-system.git\n",
    "    %cd hands-on-recommender-system/\n",
    "\n",
    "def install_dependencies() -> None:\n",
    "    !pip install --upgrade uv\n",
    "    !uv pip install --all-extras --system --requirement pyproject.toml\n",
    "\n",
    "if is_google_colab():\n",
    "    clone_repository()\n",
    "    install_dependencies()\n",
    "    root_dir = str(Path().absolute())\n",
    "    print(\"⛳️ Google Colab environment\")\n",
    "else:\n",
    "    root_dir = str(Path().absolute().parent)\n",
    "    print(\"⛳️ Local environment\")\n",
    "\n",
    "# Add the root directory to the PYTHONPATH\n",
    "if root_dir not in sys.path:\n",
    "    print(f\"Adding the following directory to the PYTHONPATH: {root_dir}\")\n",
    "    sys.path.append(root_dir)"
   ]
  },
  {
   "cell_type": "markdown",
   "metadata": {},
   "source": [
    "## Article Data"
   ]
  },
  {
   "cell_type": "code",
   "execution_count": 2,
   "metadata": {},
   "outputs": [
    {
     "name": "stdout",
     "output_type": "stream",
     "text": [
      "(105542, 25)\n"
     ]
    },
    {
     "data": {
      "text/html": [
       "<div><style>\n",
       ".dataframe > thead > tr,\n",
       ".dataframe > tbody > tr {\n",
       "  text-align: right;\n",
       "  white-space: pre-wrap;\n",
       "}\n",
       "</style>\n",
       "<small>shape: (5, 25)</small><table border=\"1\" class=\"dataframe\"><thead><tr><th>article_id</th><th>product_code</th><th>prod_name</th><th>product_type_no</th><th>product_type_name</th><th>product_group_name</th><th>graphical_appearance_no</th><th>graphical_appearance_name</th><th>colour_group_code</th><th>colour_group_name</th><th>perceived_colour_value_id</th><th>perceived_colour_value_name</th><th>perceived_colour_master_id</th><th>perceived_colour_master_name</th><th>department_no</th><th>department_name</th><th>index_code</th><th>index_name</th><th>index_group_no</th><th>index_group_name</th><th>section_no</th><th>section_name</th><th>garment_group_no</th><th>garment_group_name</th><th>detail_desc</th></tr><tr><td>i64</td><td>i64</td><td>str</td><td>i64</td><td>str</td><td>str</td><td>i64</td><td>str</td><td>i64</td><td>str</td><td>i64</td><td>str</td><td>i64</td><td>str</td><td>i64</td><td>str</td><td>str</td><td>str</td><td>i64</td><td>str</td><td>i64</td><td>str</td><td>i64</td><td>str</td><td>str</td></tr></thead><tbody><tr><td>108775015</td><td>108775</td><td>&quot;Strap top&quot;</td><td>253</td><td>&quot;Vest top&quot;</td><td>&quot;Garment Upper body&quot;</td><td>1010016</td><td>&quot;Solid&quot;</td><td>9</td><td>&quot;Black&quot;</td><td>4</td><td>&quot;Dark&quot;</td><td>5</td><td>&quot;Black&quot;</td><td>1676</td><td>&quot;Jersey Basic&quot;</td><td>&quot;A&quot;</td><td>&quot;Ladieswear&quot;</td><td>1</td><td>&quot;Ladieswear&quot;</td><td>16</td><td>&quot;Womens Everyday Basics&quot;</td><td>1002</td><td>&quot;Jersey Basic&quot;</td><td>&quot;Jersey top with narrow shoulde…</td></tr><tr><td>108775044</td><td>108775</td><td>&quot;Strap top&quot;</td><td>253</td><td>&quot;Vest top&quot;</td><td>&quot;Garment Upper body&quot;</td><td>1010016</td><td>&quot;Solid&quot;</td><td>10</td><td>&quot;White&quot;</td><td>3</td><td>&quot;Light&quot;</td><td>9</td><td>&quot;White&quot;</td><td>1676</td><td>&quot;Jersey Basic&quot;</td><td>&quot;A&quot;</td><td>&quot;Ladieswear&quot;</td><td>1</td><td>&quot;Ladieswear&quot;</td><td>16</td><td>&quot;Womens Everyday Basics&quot;</td><td>1002</td><td>&quot;Jersey Basic&quot;</td><td>&quot;Jersey top with narrow shoulde…</td></tr><tr><td>108775051</td><td>108775</td><td>&quot;Strap top (1)&quot;</td><td>253</td><td>&quot;Vest top&quot;</td><td>&quot;Garment Upper body&quot;</td><td>1010017</td><td>&quot;Stripe&quot;</td><td>11</td><td>&quot;Off White&quot;</td><td>1</td><td>&quot;Dusty Light&quot;</td><td>9</td><td>&quot;White&quot;</td><td>1676</td><td>&quot;Jersey Basic&quot;</td><td>&quot;A&quot;</td><td>&quot;Ladieswear&quot;</td><td>1</td><td>&quot;Ladieswear&quot;</td><td>16</td><td>&quot;Womens Everyday Basics&quot;</td><td>1002</td><td>&quot;Jersey Basic&quot;</td><td>&quot;Jersey top with narrow shoulde…</td></tr><tr><td>110065001</td><td>110065</td><td>&quot;OP T-shirt (Idro)&quot;</td><td>306</td><td>&quot;Bra&quot;</td><td>&quot;Underwear&quot;</td><td>1010016</td><td>&quot;Solid&quot;</td><td>9</td><td>&quot;Black&quot;</td><td>4</td><td>&quot;Dark&quot;</td><td>5</td><td>&quot;Black&quot;</td><td>1339</td><td>&quot;Clean Lingerie&quot;</td><td>&quot;B&quot;</td><td>&quot;Lingeries/Tights&quot;</td><td>1</td><td>&quot;Ladieswear&quot;</td><td>61</td><td>&quot;Womens Lingerie&quot;</td><td>1017</td><td>&quot;Under-, Nightwear&quot;</td><td>&quot;Microfibre T-shirt bra with un…</td></tr><tr><td>110065002</td><td>110065</td><td>&quot;OP T-shirt (Idro)&quot;</td><td>306</td><td>&quot;Bra&quot;</td><td>&quot;Underwear&quot;</td><td>1010016</td><td>&quot;Solid&quot;</td><td>10</td><td>&quot;White&quot;</td><td>3</td><td>&quot;Light&quot;</td><td>9</td><td>&quot;White&quot;</td><td>1339</td><td>&quot;Clean Lingerie&quot;</td><td>&quot;B&quot;</td><td>&quot;Lingeries/Tights&quot;</td><td>1</td><td>&quot;Ladieswear&quot;</td><td>61</td><td>&quot;Womens Lingerie&quot;</td><td>1017</td><td>&quot;Under-, Nightwear&quot;</td><td>&quot;Microfibre T-shirt bra with un…</td></tr></tbody></table></div>"
      ],
      "text/plain": [
       "shape: (5, 25)\n",
       "┌───────────┬───────────┬───────────┬───────────┬───┬───────────┬───────────┬───────────┬──────────┐\n",
       "│ article_i ┆ product_c ┆ prod_name ┆ product_t ┆ … ┆ section_n ┆ garment_g ┆ garment_g ┆ detail_d │\n",
       "│ d         ┆ ode       ┆ ---       ┆ ype_no    ┆   ┆ ame       ┆ roup_no   ┆ roup_name ┆ esc      │\n",
       "│ ---       ┆ ---       ┆ str       ┆ ---       ┆   ┆ ---       ┆ ---       ┆ ---       ┆ ---      │\n",
       "│ i64       ┆ i64       ┆           ┆ i64       ┆   ┆ str       ┆ i64       ┆ str       ┆ str      │\n",
       "╞═══════════╪═══════════╪═══════════╪═══════════╪═══╪═══════════╪═══════════╪═══════════╪══════════╡\n",
       "│ 108775015 ┆ 108775    ┆ Strap top ┆ 253       ┆ … ┆ Womens    ┆ 1002      ┆ Jersey    ┆ Jersey   │\n",
       "│           ┆           ┆           ┆           ┆   ┆ Everyday  ┆           ┆ Basic     ┆ top with │\n",
       "│           ┆           ┆           ┆           ┆   ┆ Basics    ┆           ┆           ┆ narrow   │\n",
       "│           ┆           ┆           ┆           ┆   ┆           ┆           ┆           ┆ shoulde… │\n",
       "│ 108775044 ┆ 108775    ┆ Strap top ┆ 253       ┆ … ┆ Womens    ┆ 1002      ┆ Jersey    ┆ Jersey   │\n",
       "│           ┆           ┆           ┆           ┆   ┆ Everyday  ┆           ┆ Basic     ┆ top with │\n",
       "│           ┆           ┆           ┆           ┆   ┆ Basics    ┆           ┆           ┆ narrow   │\n",
       "│           ┆           ┆           ┆           ┆   ┆           ┆           ┆           ┆ shoulde… │\n",
       "│ 108775051 ┆ 108775    ┆ Strap top ┆ 253       ┆ … ┆ Womens    ┆ 1002      ┆ Jersey    ┆ Jersey   │\n",
       "│           ┆           ┆ (1)       ┆           ┆   ┆ Everyday  ┆           ┆ Basic     ┆ top with │\n",
       "│           ┆           ┆           ┆           ┆   ┆ Basics    ┆           ┆           ┆ narrow   │\n",
       "│           ┆           ┆           ┆           ┆   ┆           ┆           ┆           ┆ shoulde… │\n",
       "│ 110065001 ┆ 110065    ┆ OP        ┆ 306       ┆ … ┆ Womens    ┆ 1017      ┆ Under-,   ┆ Microfib │\n",
       "│           ┆           ┆ T-shirt   ┆           ┆   ┆ Lingerie  ┆           ┆ Nightwear ┆ re       │\n",
       "│           ┆           ┆ (Idro)    ┆           ┆   ┆           ┆           ┆           ┆ T-shirt  │\n",
       "│           ┆           ┆           ┆           ┆   ┆           ┆           ┆           ┆ bra with │\n",
       "│           ┆           ┆           ┆           ┆   ┆           ┆           ┆           ┆ un…      │\n",
       "│ 110065002 ┆ 110065    ┆ OP        ┆ 306       ┆ … ┆ Womens    ┆ 1017      ┆ Under-,   ┆ Microfib │\n",
       "│           ┆           ┆ T-shirt   ┆           ┆   ┆ Lingerie  ┆           ┆ Nightwear ┆ re       │\n",
       "│           ┆           ┆ (Idro)    ┆           ┆   ┆           ┆           ┆           ┆ T-shirt  │\n",
       "│           ┆           ┆           ┆           ┆   ┆           ┆           ┆           ┆ bra with │\n",
       "│           ┆           ┆           ┆           ┆   ┆           ┆           ┆           ┆ un…      │\n",
       "└───────────┴───────────┴───────────┴───────────┴───┴───────────┴───────────┴───────────┴──────────┘"
      ]
     },
     "execution_count": 2,
     "metadata": {},
     "output_type": "execute_result"
    }
   ],
   "source": [
    "from recosystem.raw_data import hm as hm_raw_data\n",
    "\n",
    "# Extract articles data\n",
    "art_df = hm_raw_data.extract_art_df()\n",
    "print(art_df.shape)\n",
    "art_df.head()"
   ]
  },
  {
   "cell_type": "code",
   "execution_count": 5,
   "metadata": {},
   "outputs": [
    {
     "data": {
      "text/html": [
       "<div><style>\n",
       ".dataframe > thead > tr,\n",
       ".dataframe > tbody > tr {\n",
       "  text-align: right;\n",
       "  white-space: pre-wrap;\n",
       "}\n",
       "</style>\n",
       "<small>shape: (1, 25)</small><table border=\"1\" class=\"dataframe\"><thead><tr><th>article_id</th><th>product_code</th><th>prod_name</th><th>product_type_no</th><th>product_type_name</th><th>product_group_name</th><th>graphical_appearance_no</th><th>graphical_appearance_name</th><th>colour_group_code</th><th>colour_group_name</th><th>perceived_colour_value_id</th><th>perceived_colour_value_name</th><th>perceived_colour_master_id</th><th>perceived_colour_master_name</th><th>department_no</th><th>department_name</th><th>index_code</th><th>index_name</th><th>index_group_no</th><th>index_group_name</th><th>section_no</th><th>section_name</th><th>garment_group_no</th><th>garment_group_name</th><th>detail_desc</th></tr><tr><td>u32</td><td>u32</td><td>u32</td><td>u32</td><td>u32</td><td>u32</td><td>u32</td><td>u32</td><td>u32</td><td>u32</td><td>u32</td><td>u32</td><td>u32</td><td>u32</td><td>u32</td><td>u32</td><td>u32</td><td>u32</td><td>u32</td><td>u32</td><td>u32</td><td>u32</td><td>u32</td><td>u32</td><td>u32</td></tr></thead><tbody><tr><td>0</td><td>0</td><td>0</td><td>0</td><td>0</td><td>0</td><td>0</td><td>0</td><td>0</td><td>0</td><td>0</td><td>0</td><td>0</td><td>0</td><td>0</td><td>0</td><td>0</td><td>0</td><td>0</td><td>0</td><td>0</td><td>0</td><td>0</td><td>0</td><td>416</td></tr></tbody></table></div>"
      ],
      "text/plain": [
       "shape: (1, 25)\n",
       "┌───────────┬───────────┬───────────┬───────────┬───┬───────────┬───────────┬───────────┬──────────┐\n",
       "│ article_i ┆ product_c ┆ prod_name ┆ product_t ┆ … ┆ section_n ┆ garment_g ┆ garment_g ┆ detail_d │\n",
       "│ d         ┆ ode       ┆ ---       ┆ ype_no    ┆   ┆ ame       ┆ roup_no   ┆ roup_name ┆ esc      │\n",
       "│ ---       ┆ ---       ┆ u32       ┆ ---       ┆   ┆ ---       ┆ ---       ┆ ---       ┆ ---      │\n",
       "│ u32       ┆ u32       ┆           ┆ u32       ┆   ┆ u32       ┆ u32       ┆ u32       ┆ u32      │\n",
       "╞═══════════╪═══════════╪═══════════╪═══════════╪═══╪═══════════╪═══════════╪═══════════╪══════════╡\n",
       "│ 0         ┆ 0         ┆ 0         ┆ 0         ┆ … ┆ 0         ┆ 0         ┆ 0         ┆ 416      │\n",
       "└───────────┴───────────┴───────────┴───────────┴───┴───────────┴───────────┴───────────┴──────────┘"
      ]
     },
     "execution_count": 5,
     "metadata": {},
     "output_type": "execute_result"
    }
   ],
   "source": [
    "art_df.null_count()"
   ]
  },
  {
   "cell_type": "code",
   "execution_count": 12,
   "metadata": {},
   "outputs": [
    {
     "name": "stdout",
     "output_type": "stream",
     "text": [
      "WARNING:tensorflow:From c:\\Users\\haileyesus\\Desktop\\DEV\\Real-Time-Personalized-Recommender\\.venv\\Lib\\site-packages\\tf_keras\\src\\losses.py:2976: The name tf.losses.sparse_softmax_cross_entropy is deprecated. Please use tf.compat.v1.losses.sparse_softmax_cross_entropy instead.\n",
      "\n"
     ]
    },
    {
     "name": "stderr",
     "output_type": "stream",
     "text": [
      "sys:1: MapWithoutReturnDtypeWarning: Calling `map_elements` without specifying `return_dtype` can lead to unpredictable results. Specify `return_dtype` to silence this warning.\n",
      "sys:1: MapWithoutReturnDtypeWarning: Calling `map_elements` without specifying `return_dtype` can lead to unpredictable results. Specify `return_dtype` to silence this warning.\n"
     ]
    },
    {
     "data": {
      "text/plain": [
       "(105542, 27)"
      ]
     },
     "execution_count": 12,
     "metadata": {},
     "output_type": "execute_result"
    }
   ],
   "source": [
    "# Article Feature Engineering\n",
    "from recosystem.feature.articles import (\n",
    "    compute_features_articles,\n",
    "    generate_embeddings_for_dataframe,\n",
    ")\n",
    "from recosystem.config import settings\n",
    "\n",
    "art_df = compute_features_articles(art_df)\n",
    "art_df.shape"
   ]
  },
  {
   "cell_type": "code",
   "execution_count": 13,
   "metadata": {},
   "outputs": [
    {
     "data": {
      "text/html": [
       "<div><style>\n",
       ".dataframe > thead > tr,\n",
       ".dataframe > tbody > tr {\n",
       "  text-align: right;\n",
       "  white-space: pre-wrap;\n",
       "}\n",
       "</style>\n",
       "<small>shape: (3, 27)</small><table border=\"1\" class=\"dataframe\"><thead><tr><th>article_id</th><th>product_code</th><th>prod_name</th><th>product_type_no</th><th>product_type_name</th><th>product_group_name</th><th>graphical_appearance_no</th><th>graphical_appearance_name</th><th>colour_group_code</th><th>colour_group_name</th><th>perceived_colour_value_id</th><th>perceived_colour_value_name</th><th>perceived_colour_master_id</th><th>perceived_colour_master_name</th><th>department_no</th><th>department_name</th><th>index_code</th><th>index_name</th><th>index_group_no</th><th>index_group_name</th><th>section_no</th><th>section_name</th><th>garment_group_no</th><th>garment_group_name</th><th>prod_name_length</th><th>article_description</th><th>image_url</th></tr><tr><td>str</td><td>i64</td><td>str</td><td>i64</td><td>str</td><td>str</td><td>i64</td><td>str</td><td>i64</td><td>str</td><td>i64</td><td>str</td><td>i64</td><td>str</td><td>i64</td><td>str</td><td>str</td><td>str</td><td>i64</td><td>str</td><td>i64</td><td>str</td><td>i64</td><td>str</td><td>u32</td><td>str</td><td>str</td></tr></thead><tbody><tr><td>&quot;108775015&quot;</td><td>108775</td><td>&quot;Strap top&quot;</td><td>253</td><td>&quot;Vest top&quot;</td><td>&quot;Garment Upper body&quot;</td><td>1010016</td><td>&quot;Solid&quot;</td><td>9</td><td>&quot;Black&quot;</td><td>4</td><td>&quot;Dark&quot;</td><td>5</td><td>&quot;Black&quot;</td><td>1676</td><td>&quot;Jersey Basic&quot;</td><td>&quot;A&quot;</td><td>&quot;Ladieswear&quot;</td><td>1</td><td>&quot;Ladieswear&quot;</td><td>16</td><td>&quot;Womens Everyday Basics&quot;</td><td>1002</td><td>&quot;Jersey Basic&quot;</td><td>9</td><td>&quot;Strap top - Vest top in Garmen…</td><td>&quot;https://repo.hops.works/dev/jd…</td></tr><tr><td>&quot;108775044&quot;</td><td>108775</td><td>&quot;Strap top&quot;</td><td>253</td><td>&quot;Vest top&quot;</td><td>&quot;Garment Upper body&quot;</td><td>1010016</td><td>&quot;Solid&quot;</td><td>10</td><td>&quot;White&quot;</td><td>3</td><td>&quot;Light&quot;</td><td>9</td><td>&quot;White&quot;</td><td>1676</td><td>&quot;Jersey Basic&quot;</td><td>&quot;A&quot;</td><td>&quot;Ladieswear&quot;</td><td>1</td><td>&quot;Ladieswear&quot;</td><td>16</td><td>&quot;Womens Everyday Basics&quot;</td><td>1002</td><td>&quot;Jersey Basic&quot;</td><td>9</td><td>&quot;Strap top - Vest top in Garmen…</td><td>&quot;https://repo.hops.works/dev/jd…</td></tr><tr><td>&quot;108775051&quot;</td><td>108775</td><td>&quot;Strap top (1)&quot;</td><td>253</td><td>&quot;Vest top&quot;</td><td>&quot;Garment Upper body&quot;</td><td>1010017</td><td>&quot;Stripe&quot;</td><td>11</td><td>&quot;Off White&quot;</td><td>1</td><td>&quot;Dusty Light&quot;</td><td>9</td><td>&quot;White&quot;</td><td>1676</td><td>&quot;Jersey Basic&quot;</td><td>&quot;A&quot;</td><td>&quot;Ladieswear&quot;</td><td>1</td><td>&quot;Ladieswear&quot;</td><td>16</td><td>&quot;Womens Everyday Basics&quot;</td><td>1002</td><td>&quot;Jersey Basic&quot;</td><td>13</td><td>&quot;Strap top (1) - Vest top in Ga…</td><td>&quot;https://repo.hops.works/dev/jd…</td></tr></tbody></table></div>"
      ],
      "text/plain": [
       "shape: (3, 27)\n",
       "┌───────────┬───────────┬───────────┬───────────┬───┬───────────┬───────────┬───────────┬──────────┐\n",
       "│ article_i ┆ product_c ┆ prod_name ┆ product_t ┆ … ┆ garment_g ┆ prod_name ┆ article_d ┆ image_ur │\n",
       "│ d         ┆ ode       ┆ ---       ┆ ype_no    ┆   ┆ roup_name ┆ _length   ┆ escriptio ┆ l        │\n",
       "│ ---       ┆ ---       ┆ str       ┆ ---       ┆   ┆ ---       ┆ ---       ┆ n         ┆ ---      │\n",
       "│ str       ┆ i64       ┆           ┆ i64       ┆   ┆ str       ┆ u32       ┆ ---       ┆ str      │\n",
       "│           ┆           ┆           ┆           ┆   ┆           ┆           ┆ str       ┆          │\n",
       "╞═══════════╪═══════════╪═══════════╪═══════════╪═══╪═══════════╪═══════════╪═══════════╪══════════╡\n",
       "│ 108775015 ┆ 108775    ┆ Strap top ┆ 253       ┆ … ┆ Jersey    ┆ 9         ┆ Strap top ┆ https:// │\n",
       "│           ┆           ┆           ┆           ┆   ┆ Basic     ┆           ┆ - Vest    ┆ repo.hop │\n",
       "│           ┆           ┆           ┆           ┆   ┆           ┆           ┆ top in    ┆ s.works/ │\n",
       "│           ┆           ┆           ┆           ┆   ┆           ┆           ┆ Garmen…   ┆ dev/jd…  │\n",
       "│ 108775044 ┆ 108775    ┆ Strap top ┆ 253       ┆ … ┆ Jersey    ┆ 9         ┆ Strap top ┆ https:// │\n",
       "│           ┆           ┆           ┆           ┆   ┆ Basic     ┆           ┆ - Vest    ┆ repo.hop │\n",
       "│           ┆           ┆           ┆           ┆   ┆           ┆           ┆ top in    ┆ s.works/ │\n",
       "│           ┆           ┆           ┆           ┆   ┆           ┆           ┆ Garmen…   ┆ dev/jd…  │\n",
       "│ 108775051 ┆ 108775    ┆ Strap top ┆ 253       ┆ … ┆ Jersey    ┆ 13        ┆ Strap top ┆ https:// │\n",
       "│           ┆           ┆ (1)       ┆           ┆   ┆ Basic     ┆           ┆ (1) -     ┆ repo.hop │\n",
       "│           ┆           ┆           ┆           ┆   ┆           ┆           ┆ Vest top  ┆ s.works/ │\n",
       "│           ┆           ┆           ┆           ┆   ┆           ┆           ┆ in Ga…    ┆ dev/jd…  │\n",
       "└───────────┴───────────┴───────────┴───────────┴───┴───────────┴───────────┴───────────┴──────────┘"
      ]
     },
     "execution_count": 13,
     "metadata": {},
     "output_type": "execute_result"
    }
   ],
   "source": [
    "art_df.head(3)"
   ]
  },
  {
   "cell_type": "code",
   "execution_count": null,
   "metadata": {},
   "outputs": [],
   "source": [
    "# Creating embeddings from the articles description\n",
    "from loguru import logger\n",
    "for i, desc in enumerate(art_df[\"article_description\"].head(n=3)):\n",
    "    logger.info(f\"Item {i+1}: \\n{desc}\")"
   ]
  },
  {
   "cell_type": "code",
   "execution_count": 16,
   "metadata": {},
   "outputs": [
    {
     "name": "stderr",
     "output_type": "stream",
     "text": [
      "\u001b[32m2024-12-15 15:12:46.221\u001b[0m | \u001b[1mINFO    \u001b[0m | \u001b[36m__main__\u001b[0m:\u001b[36m<module>\u001b[0m:\u001b[36m13\u001b[0m - \u001b[1mLoading 'all-MiniLM-L6-v2' embedding model to cpu\u001b[0m\n",
      "c:\\Users\\haileyesus\\Desktop\\DEV\\Real-Time-Personalized-Recommender\\.venv\\Lib\\site-packages\\huggingface_hub\\file_download.py:139: UserWarning: `huggingface_hub` cache-system uses symlinks by default to efficiently store duplicated files but your machine does not support them in C:\\Users\\haileyesus\\.cache\\huggingface\\hub\\models--sentence-transformers--all-MiniLM-L6-v2. Caching files will still work but in a degraded version that might require more space on your disk. This warning can be disabled by setting the `HF_HUB_DISABLE_SYMLINKS_WARNING` environment variable. For more details, see https://huggingface.co/docs/huggingface_hub/how-to-cache#limitations.\n",
      "To support symlinks on Windows, you either need to activate Developer Mode or to run Python as an administrator. In order to activate developer mode, see this article: https://docs.microsoft.com/en-us/windows/apps/get-started/enable-your-device-for-development\n",
      "  warnings.warn(message)\n"
     ]
    }
   ],
   "source": [
    "import polars as pl\n",
    "import torch\n",
    "from loguru import logger\n",
    "from recosystem.config import settings\n",
    "from sentence_transformers import SentenceTransformer\n",
    "\n",
    "device = (\n",
    "    \"cuda\" if torch.cuda.is_available()\n",
    "    else \"mps\" if torch.backends.mps.is_available()\n",
    "    else \"cpu\"\n",
    ")\n",
    "\n",
    "logger.info(f\"Loading '{settings.FEATURES_EMBEDDING_MODEL_ID}' embedding model to {device}\")\n",
    "\n",
    "# Load the embedding model\n",
    "model =SentenceTransformer(settings.FEATURES_EMBEDDING_MODEL_ID, device=device)\n",
    "\n"
   ]
  },
  {
   "cell_type": "code",
   "execution_count": 17,
   "metadata": {},
   "outputs": [
    {
     "name": "stderr",
     "output_type": "stream",
     "text": [
      "Generating embeddings: 100%|██████████| 1/1 [00:00<00:00,  2.01it/s]\n"
     ]
    },
    {
     "data": {
      "text/html": [
       "<div><style>\n",
       ".dataframe > thead > tr,\n",
       ".dataframe > tbody > tr {\n",
       "  text-align: right;\n",
       "  white-space: pre-wrap;\n",
       "}\n",
       "</style>\n",
       "<small>shape: (1,)</small><table border=\"1\" class=\"dataframe\"><thead><tr><th>embeddings</th></tr><tr><td>list[f64]</td></tr></thead><tbody><tr><td>[-0.026782, 0.082344, … 0.022782]</td></tr></tbody></table></div>"
      ],
      "text/plain": [
       "shape: (1,)\n",
       "Series: 'embeddings' [list[f64]]\n",
       "[\n",
       "\t[-0.026782, 0.082344, … 0.022782]\n",
       "]"
      ]
     },
     "execution_count": 17,
     "metadata": {},
     "output_type": "execute_result"
    }
   ],
   "source": [
    "embedding = generate_embeddings_for_dataframe(\n",
    "    art_df.head(1), \"article_description\", model, batch_size=128\n",
    ")['embeddings']\n",
    "embedding"
   ]
  },
  {
   "cell_type": "code",
   "execution_count": 18,
   "metadata": {},
   "outputs": [
    {
     "data": {
      "text/plain": [
       "polars.dataframe.frame.DataFrame"
      ]
     },
     "execution_count": 18,
     "metadata": {},
     "output_type": "execute_result"
    }
   ],
   "source": [
    "type(art_df)"
   ]
  },
  {
   "cell_type": "code",
   "execution_count": 19,
   "metadata": {},
   "outputs": [
    {
     "data": {
      "text/html": [
       "<div><style>\n",
       ".dataframe > thead > tr,\n",
       ".dataframe > tbody > tr {\n",
       "  text-align: right;\n",
       "  white-space: pre-wrap;\n",
       "}\n",
       "</style>\n",
       "<small>shape: (3, 28)</small><table border=\"1\" class=\"dataframe\"><thead><tr><th>article_id</th><th>product_code</th><th>prod_name</th><th>product_type_no</th><th>product_type_name</th><th>product_group_name</th><th>graphical_appearance_no</th><th>graphical_appearance_name</th><th>colour_group_code</th><th>colour_group_name</th><th>perceived_colour_value_id</th><th>perceived_colour_value_name</th><th>perceived_colour_master_id</th><th>perceived_colour_master_name</th><th>department_no</th><th>department_name</th><th>index_code</th><th>index_name</th><th>index_group_no</th><th>index_group_name</th><th>section_no</th><th>section_name</th><th>garment_group_no</th><th>garment_group_name</th><th>prod_name_length</th><th>article_description</th><th>image_url</th><th>embeddings</th></tr><tr><td>str</td><td>i64</td><td>str</td><td>i64</td><td>str</td><td>str</td><td>i64</td><td>str</td><td>i64</td><td>str</td><td>i64</td><td>str</td><td>i64</td><td>str</td><td>i64</td><td>str</td><td>str</td><td>str</td><td>i64</td><td>str</td><td>i64</td><td>str</td><td>i64</td><td>str</td><td>u32</td><td>str</td><td>str</td><td>list[f64]</td></tr></thead><tbody><tr><td>&quot;108775015&quot;</td><td>108775</td><td>&quot;Strap top&quot;</td><td>253</td><td>&quot;Vest top&quot;</td><td>&quot;Garment Upper body&quot;</td><td>1010016</td><td>&quot;Solid&quot;</td><td>9</td><td>&quot;Black&quot;</td><td>4</td><td>&quot;Dark&quot;</td><td>5</td><td>&quot;Black&quot;</td><td>1676</td><td>&quot;Jersey Basic&quot;</td><td>&quot;A&quot;</td><td>&quot;Ladieswear&quot;</td><td>1</td><td>&quot;Ladieswear&quot;</td><td>16</td><td>&quot;Womens Everyday Basics&quot;</td><td>1002</td><td>&quot;Jersey Basic&quot;</td><td>9</td><td>&quot;Strap top - Vest top in Garmen…</td><td>&quot;https://repo.hops.works/dev/jd…</td><td>[-0.026782, 0.082344, … 0.022782]</td></tr><tr><td>&quot;108775044&quot;</td><td>108775</td><td>&quot;Strap top&quot;</td><td>253</td><td>&quot;Vest top&quot;</td><td>&quot;Garment Upper body&quot;</td><td>1010016</td><td>&quot;Solid&quot;</td><td>10</td><td>&quot;White&quot;</td><td>3</td><td>&quot;Light&quot;</td><td>9</td><td>&quot;White&quot;</td><td>1676</td><td>&quot;Jersey Basic&quot;</td><td>&quot;A&quot;</td><td>&quot;Ladieswear&quot;</td><td>1</td><td>&quot;Ladieswear&quot;</td><td>16</td><td>&quot;Womens Everyday Basics&quot;</td><td>1002</td><td>&quot;Jersey Basic&quot;</td><td>9</td><td>&quot;Strap top - Vest top in Garmen…</td><td>&quot;https://repo.hops.works/dev/jd…</td><td>[-0.026782, 0.082344, … 0.022782]</td></tr><tr><td>&quot;108775051&quot;</td><td>108775</td><td>&quot;Strap top (1)&quot;</td><td>253</td><td>&quot;Vest top&quot;</td><td>&quot;Garment Upper body&quot;</td><td>1010017</td><td>&quot;Stripe&quot;</td><td>11</td><td>&quot;Off White&quot;</td><td>1</td><td>&quot;Dusty Light&quot;</td><td>9</td><td>&quot;White&quot;</td><td>1676</td><td>&quot;Jersey Basic&quot;</td><td>&quot;A&quot;</td><td>&quot;Ladieswear&quot;</td><td>1</td><td>&quot;Ladieswear&quot;</td><td>16</td><td>&quot;Womens Everyday Basics&quot;</td><td>1002</td><td>&quot;Jersey Basic&quot;</td><td>13</td><td>&quot;Strap top (1) - Vest top in Ga…</td><td>&quot;https://repo.hops.works/dev/jd…</td><td>[-0.026782, 0.082344, … 0.022782]</td></tr></tbody></table></div>"
      ],
      "text/plain": [
       "shape: (3, 28)\n",
       "┌───────────┬───────────┬───────────┬───────────┬───┬───────────┬───────────┬───────────┬──────────┐\n",
       "│ article_i ┆ product_c ┆ prod_name ┆ product_t ┆ … ┆ prod_name ┆ article_d ┆ image_url ┆ embeddin │\n",
       "│ d         ┆ ode       ┆ ---       ┆ ype_no    ┆   ┆ _length   ┆ escriptio ┆ ---       ┆ gs       │\n",
       "│ ---       ┆ ---       ┆ str       ┆ ---       ┆   ┆ ---       ┆ n         ┆ str       ┆ ---      │\n",
       "│ str       ┆ i64       ┆           ┆ i64       ┆   ┆ u32       ┆ ---       ┆           ┆ list[f64 │\n",
       "│           ┆           ┆           ┆           ┆   ┆           ┆ str       ┆           ┆ ]        │\n",
       "╞═══════════╪═══════════╪═══════════╪═══════════╪═══╪═══════════╪═══════════╪═══════════╪══════════╡\n",
       "│ 108775015 ┆ 108775    ┆ Strap top ┆ 253       ┆ … ┆ 9         ┆ Strap top ┆ https://r ┆ [-0.0267 │\n",
       "│           ┆           ┆           ┆           ┆   ┆           ┆ - Vest    ┆ epo.hops. ┆ 82, 0.08 │\n",
       "│           ┆           ┆           ┆           ┆   ┆           ┆ top in    ┆ works/dev ┆ 2344, …  │\n",
       "│           ┆           ┆           ┆           ┆   ┆           ┆ Garmen…   ┆ /jd…      ┆ 0.0227…  │\n",
       "│ 108775044 ┆ 108775    ┆ Strap top ┆ 253       ┆ … ┆ 9         ┆ Strap top ┆ https://r ┆ [-0.0267 │\n",
       "│           ┆           ┆           ┆           ┆   ┆           ┆ - Vest    ┆ epo.hops. ┆ 82, 0.08 │\n",
       "│           ┆           ┆           ┆           ┆   ┆           ┆ top in    ┆ works/dev ┆ 2344, …  │\n",
       "│           ┆           ┆           ┆           ┆   ┆           ┆ Garmen…   ┆ /jd…      ┆ 0.0227…  │\n",
       "│ 108775051 ┆ 108775    ┆ Strap top ┆ 253       ┆ … ┆ 13        ┆ Strap top ┆ https://r ┆ [-0.0267 │\n",
       "│           ┆           ┆ (1)       ┆           ┆   ┆           ┆ (1) -     ┆ epo.hops. ┆ 82, 0.08 │\n",
       "│           ┆           ┆           ┆           ┆   ┆           ┆ Vest top  ┆ works/dev ┆ 2344, …  │\n",
       "│           ┆           ┆           ┆           ┆   ┆           ┆ in Ga…    ┆ /jd…      ┆ 0.0227…  │\n",
       "└───────────┴───────────┴───────────┴───────────┴───┴───────────┴───────────┴───────────┴──────────┘"
      ]
     },
     "execution_count": 19,
     "metadata": {},
     "output_type": "execute_result"
    }
   ],
   "source": [
    "articles_df = art_df.with_columns(\n",
    "    pl.lit(embedding[0].to_list()).alias(\"embeddings\")\n",
    ")\n",
    "articles_df.head(3)"
   ]
  },
  {
   "cell_type": "code",
   "execution_count": null,
   "metadata": {},
   "outputs": [],
   "source": [
    "# Generate embedding for articles\n",
    "\"\"\"\n",
    "art_df = generate_embeddings_for_dataframe(\n",
    "    art_df, \"article_description\", model, batch_size=128\n",
    ")\n",
    "\"\"\""
   ]
  },
  {
   "cell_type": "markdown",
   "metadata": {},
   "source": [
    "## Looking at the image links"
   ]
  },
  {
   "cell_type": "code",
   "execution_count": 20,
   "metadata": {},
   "outputs": [
    {
     "data": {
      "text/plain": [
       "'https://repo.hops.works/dev/jdowling/h-and-m/images/010/0108775015.jpg'"
      ]
     },
     "execution_count": 20,
     "metadata": {},
     "output_type": "execute_result"
    }
   ],
   "source": [
    "art_df[\"image_url\"][0]"
   ]
  },
  {
   "cell_type": "code",
   "execution_count": 21,
   "metadata": {},
   "outputs": [
    {
     "data": {
      "text/html": [
       "<div style=\"display: grid; grid-template-columns: repeat(6, 1fr); gap: 10px; max-width: 900px;\"><img src=\"https://repo.hops.works/dev/jdowling/h-and-m/images/094/0949551001.jpg\" style=\"width: 100%; height: auto;\"><img src=\"https://repo.hops.works/dev/jdowling/h-and-m/images/094/0949551002.jpg\" style=\"width: 100%; height: auto;\"><img src=\"https://repo.hops.works/dev/jdowling/h-and-m/images/094/0949594001.jpg\" style=\"width: 100%; height: auto;\"><img src=\"https://repo.hops.works/dev/jdowling/h-and-m/images/095/0950449002.jpg\" style=\"width: 100%; height: auto;\"><img src=\"https://repo.hops.works/dev/jdowling/h-and-m/images/095/0952267001.jpg\" style=\"width: 100%; height: auto;\"><img src=\"https://repo.hops.works/dev/jdowling/h-and-m/images/095/0952937003.jpg\" style=\"width: 100%; height: auto;\"><img src=\"https://repo.hops.works/dev/jdowling/h-and-m/images/095/0952938001.jpg\" style=\"width: 100%; height: auto;\"><img src=\"https://repo.hops.works/dev/jdowling/h-and-m/images/095/0953450001.jpg\" style=\"width: 100%; height: auto;\"><img src=\"https://repo.hops.works/dev/jdowling/h-and-m/images/095/0953763001.jpg\" style=\"width: 100%; height: auto;\"><img src=\"https://repo.hops.works/dev/jdowling/h-and-m/images/095/0956217002.jpg\" style=\"width: 100%; height: auto;\"><img src=\"https://repo.hops.works/dev/jdowling/h-and-m/images/095/0957375001.jpg\" style=\"width: 100%; height: auto;\"><img src=\"https://repo.hops.works/dev/jdowling/h-and-m/images/095/0959461001.jpg\" style=\"width: 100%; height: auto;\"></div>"
      ],
      "text/plain": [
       "<IPython.core.display.HTML object>"
      ]
     },
     "metadata": {},
     "output_type": "display_data"
    }
   ],
   "source": [
    "from IPython.display import HTML, display\n",
    "\n",
    "image_urls = articles_df[\"image_url\"].tail(12).to_list()\n",
    "grid_html = '<div style=\"display: grid; grid-template-columns: repeat(6, 1fr); gap: 10px; max-width: 900px;\">'\n",
    "\n",
    "for url in image_urls:\n",
    "    grid_html += f'<img src=\"{url}\" style=\"width: 100%; height: auto;\">'\n",
    "\n",
    "grid_html += \"</div>\"\n",
    "\n",
    "display(HTML(grid_html))"
   ]
  },
  {
   "cell_type": "markdown",
   "metadata": {},
   "source": [
    "## Customers Data"
   ]
  },
  {
   "cell_type": "code",
   "execution_count": 3,
   "metadata": {},
   "outputs": [
    {
     "name": "stdout",
     "output_type": "stream",
     "text": [
      "(1371980, 7)\n"
     ]
    },
    {
     "data": {
      "text/html": [
       "<div><style>\n",
       ".dataframe > thead > tr,\n",
       ".dataframe > tbody > tr {\n",
       "  text-align: right;\n",
       "  white-space: pre-wrap;\n",
       "}\n",
       "</style>\n",
       "<small>shape: (5, 7)</small><table border=\"1\" class=\"dataframe\"><thead><tr><th>customer_id</th><th>FN</th><th>Active</th><th>club_member_status</th><th>fashion_news_frequency</th><th>age</th><th>postal_code</th></tr><tr><td>str</td><td>f64</td><td>f64</td><td>str</td><td>str</td><td>i64</td><td>str</td></tr></thead><tbody><tr><td>&quot;00000dbacae5abe5e23885899a1fa4…</td><td>null</td><td>null</td><td>&quot;ACTIVE&quot;</td><td>&quot;NONE&quot;</td><td>49</td><td>&quot;52043ee2162cf5aa7ee79974281641…</td></tr><tr><td>&quot;0000423b00ade91418cceaf3b26c6a…</td><td>null</td><td>null</td><td>&quot;ACTIVE&quot;</td><td>&quot;NONE&quot;</td><td>25</td><td>&quot;2973abc54daa8a5f8ccfe9362140c6…</td></tr><tr><td>&quot;000058a12d5b43e67d225668fa1f8d…</td><td>null</td><td>null</td><td>&quot;ACTIVE&quot;</td><td>&quot;NONE&quot;</td><td>24</td><td>&quot;64f17e6a330a85798e4998f62d0930…</td></tr><tr><td>&quot;00005ca1c9ed5f5146b52ac8639a40…</td><td>null</td><td>null</td><td>&quot;ACTIVE&quot;</td><td>&quot;NONE&quot;</td><td>54</td><td>&quot;5d36574f52495e81f019b680c843c4…</td></tr><tr><td>&quot;00006413d8573cd20ed7128e53b7b1…</td><td>1.0</td><td>1.0</td><td>&quot;ACTIVE&quot;</td><td>&quot;Regularly&quot;</td><td>52</td><td>&quot;25fa5ddee9aac01b35208d01736e57…</td></tr></tbody></table></div>"
      ],
      "text/plain": [
       "shape: (5, 7)\n",
       "┌───────────────────┬──────┬────────┬──────────────────┬──────────────────┬─────┬──────────────────┐\n",
       "│ customer_id       ┆ FN   ┆ Active ┆ club_member_stat ┆ fashion_news_fre ┆ age ┆ postal_code      │\n",
       "│ ---               ┆ ---  ┆ ---    ┆ us               ┆ quency           ┆ --- ┆ ---              │\n",
       "│ str               ┆ f64  ┆ f64    ┆ ---              ┆ ---              ┆ i64 ┆ str              │\n",
       "│                   ┆      ┆        ┆ str              ┆ str              ┆     ┆                  │\n",
       "╞═══════════════════╪══════╪════════╪══════════════════╪══════════════════╪═════╪══════════════════╡\n",
       "│ 00000dbacae5abe5e ┆ null ┆ null   ┆ ACTIVE           ┆ NONE             ┆ 49  ┆ 52043ee2162cf5aa │\n",
       "│ 23885899a1fa4…    ┆      ┆        ┆                  ┆                  ┆     ┆ 7ee79974281641…  │\n",
       "│ 0000423b00ade9141 ┆ null ┆ null   ┆ ACTIVE           ┆ NONE             ┆ 25  ┆ 2973abc54daa8a5f │\n",
       "│ 8cceaf3b26c6a…    ┆      ┆        ┆                  ┆                  ┆     ┆ 8ccfe9362140c6…  │\n",
       "│ 000058a12d5b43e67 ┆ null ┆ null   ┆ ACTIVE           ┆ NONE             ┆ 24  ┆ 64f17e6a330a8579 │\n",
       "│ d225668fa1f8d…    ┆      ┆        ┆                  ┆                  ┆     ┆ 8e4998f62d0930…  │\n",
       "│ 00005ca1c9ed5f514 ┆ null ┆ null   ┆ ACTIVE           ┆ NONE             ┆ 54  ┆ 5d36574f52495e81 │\n",
       "│ 6b52ac8639a40…    ┆      ┆        ┆                  ┆                  ┆     ┆ f019b680c843c4…  │\n",
       "│ 00006413d8573cd20 ┆ 1.0  ┆ 1.0    ┆ ACTIVE           ┆ Regularly        ┆ 52  ┆ 25fa5ddee9aac01b │\n",
       "│ ed7128e53b7b1…    ┆      ┆        ┆                  ┆                  ┆     ┆ 35208d01736e57…  │\n",
       "└───────────────────┴──────┴────────┴──────────────────┴──────────────────┴─────┴──────────────────┘"
      ]
     },
     "execution_count": 3,
     "metadata": {},
     "output_type": "execute_result"
    }
   ],
   "source": [
    "# Extract customers data\n",
    "cust_df = hm_raw_data.extract_cust_df()\n",
    "print(cust_df.shape)\n",
    "cust_df.head()"
   ]
  },
  {
   "cell_type": "code",
   "execution_count": 22,
   "metadata": {},
   "outputs": [
    {
     "data": {
      "text/html": [
       "<div><style>\n",
       ".dataframe > thead > tr,\n",
       ".dataframe > tbody > tr {\n",
       "  text-align: right;\n",
       "  white-space: pre-wrap;\n",
       "}\n",
       "</style>\n",
       "<small>shape: (1, 7)</small><table border=\"1\" class=\"dataframe\"><thead><tr><th>customer_id</th><th>FN</th><th>Active</th><th>club_member_status</th><th>fashion_news_frequency</th><th>age</th><th>postal_code</th></tr><tr><td>u32</td><td>u32</td><td>u32</td><td>u32</td><td>u32</td><td>u32</td><td>u32</td></tr></thead><tbody><tr><td>0</td><td>895050</td><td>907576</td><td>6062</td><td>16009</td><td>15861</td><td>0</td></tr></tbody></table></div>"
      ],
      "text/plain": [
       "shape: (1, 7)\n",
       "┌─────────────┬────────┬────────┬────────────────────┬───────────────────────┬───────┬─────────────┐\n",
       "│ customer_id ┆ FN     ┆ Active ┆ club_member_status ┆ fashion_news_frequenc ┆ age   ┆ postal_code │\n",
       "│ ---         ┆ ---    ┆ ---    ┆ ---                ┆ y                     ┆ ---   ┆ ---         │\n",
       "│ u32         ┆ u32    ┆ u32    ┆ u32                ┆ ---                   ┆ u32   ┆ u32         │\n",
       "│             ┆        ┆        ┆                    ┆ u32                   ┆       ┆             │\n",
       "╞═════════════╪════════╪════════╪════════════════════╪═══════════════════════╪═══════╪═════════════╡\n",
       "│ 0           ┆ 895050 ┆ 907576 ┆ 6062               ┆ 16009                 ┆ 15861 ┆ 0           │\n",
       "└─────────────┴────────┴────────┴────────────────────┴───────────────────────┴───────┴─────────────┘"
      ]
     },
     "execution_count": 22,
     "metadata": {},
     "output_type": "execute_result"
    }
   ],
   "source": [
    "cust_df.null_count()"
   ]
  },
  {
   "cell_type": "markdown",
   "metadata": {},
   "source": [
    "### Feature engineering"
   ]
  },
  {
   "cell_type": "code",
   "execution_count": 23,
   "metadata": {},
   "outputs": [
    {
     "data": {
      "text/plain": [
       "(1356119, 5)"
      ]
     },
     "execution_count": 23,
     "metadata": {},
     "output_type": "execute_result"
    }
   ],
   "source": [
    "from recosystem.feature.customers import DatasetSampler, compute_features_customers\n",
    "\n",
    "cust_df = compute_features_customers(cust_df, drop_null_age=True)\n",
    "cust_df.shape"
   ]
  },
  {
   "cell_type": "code",
   "execution_count": 24,
   "metadata": {},
   "outputs": [
    {
     "data": {
      "text/html": [
       "<div><style>\n",
       ".dataframe > thead > tr,\n",
       ".dataframe > tbody > tr {\n",
       "  text-align: right;\n",
       "  white-space: pre-wrap;\n",
       "}\n",
       "</style>\n",
       "<small>shape: (3, 5)</small><table border=\"1\" class=\"dataframe\"><thead><tr><th>customer_id</th><th>club_member_status</th><th>age</th><th>postal_code</th><th>age_group</th></tr><tr><td>str</td><td>str</td><td>f64</td><td>str</td><td>str</td></tr></thead><tbody><tr><td>&quot;00000dbacae5abe5e23885899a1fa4…</td><td>&quot;ACTIVE&quot;</td><td>49.0</td><td>&quot;52043ee2162cf5aa7ee79974281641…</td><td>&quot;46-55&quot;</td></tr><tr><td>&quot;0000423b00ade91418cceaf3b26c6a…</td><td>&quot;ACTIVE&quot;</td><td>25.0</td><td>&quot;2973abc54daa8a5f8ccfe9362140c6…</td><td>&quot;19-25&quot;</td></tr><tr><td>&quot;000058a12d5b43e67d225668fa1f8d…</td><td>&quot;ACTIVE&quot;</td><td>24.0</td><td>&quot;64f17e6a330a85798e4998f62d0930…</td><td>&quot;19-25&quot;</td></tr></tbody></table></div>"
      ],
      "text/plain": [
       "shape: (3, 5)\n",
       "┌─────────────────────────────┬────────────────────┬──────┬────────────────────────────┬───────────┐\n",
       "│ customer_id                 ┆ club_member_status ┆ age  ┆ postal_code                ┆ age_group │\n",
       "│ ---                         ┆ ---                ┆ ---  ┆ ---                        ┆ ---       │\n",
       "│ str                         ┆ str                ┆ f64  ┆ str                        ┆ str       │\n",
       "╞═════════════════════════════╪════════════════════╪══════╪════════════════════════════╪═══════════╡\n",
       "│ 00000dbacae5abe5e23885899a1 ┆ ACTIVE             ┆ 49.0 ┆ 52043ee2162cf5aa7ee7997428 ┆ 46-55     │\n",
       "│ fa4…                        ┆                    ┆      ┆ 1641…                      ┆           │\n",
       "│ 0000423b00ade91418cceaf3b26 ┆ ACTIVE             ┆ 25.0 ┆ 2973abc54daa8a5f8ccfe93621 ┆ 19-25     │\n",
       "│ c6a…                        ┆                    ┆      ┆ 40c6…                      ┆           │\n",
       "│ 000058a12d5b43e67d225668fa1 ┆ ACTIVE             ┆ 24.0 ┆ 64f17e6a330a85798e4998f62d ┆ 19-25     │\n",
       "│ f8d…                        ┆                    ┆      ┆ 0930…                      ┆           │\n",
       "└─────────────────────────────┴────────────────────┴──────┴────────────────────────────┴───────────┘"
      ]
     },
     "execution_count": 24,
     "metadata": {},
     "output_type": "execute_result"
    }
   ],
   "source": [
    "cust_df.head(3)"
   ]
  },
  {
   "cell_type": "markdown",
   "metadata": {},
   "source": [
    "## Transactions Data"
   ]
  },
  {
   "cell_type": "code",
   "execution_count": 4,
   "metadata": {},
   "outputs": [
    {
     "name": "stdout",
     "output_type": "stream",
     "text": [
      "(31788324, 5)\n"
     ]
    },
    {
     "data": {
      "text/html": [
       "<div><style>\n",
       ".dataframe > thead > tr,\n",
       ".dataframe > tbody > tr {\n",
       "  text-align: right;\n",
       "  white-space: pre-wrap;\n",
       "}\n",
       "</style>\n",
       "<small>shape: (5, 5)</small><table border=\"1\" class=\"dataframe\"><thead><tr><th>t_dat</th><th>customer_id</th><th>article_id</th><th>price</th><th>sales_channel_id</th></tr><tr><td>date</td><td>str</td><td>i64</td><td>f64</td><td>i64</td></tr></thead><tbody><tr><td>2018-09-20</td><td>&quot;000058a12d5b43e67d225668fa1f8d…</td><td>663713001</td><td>0.050831</td><td>2</td></tr><tr><td>2018-09-20</td><td>&quot;000058a12d5b43e67d225668fa1f8d…</td><td>541518023</td><td>0.030492</td><td>2</td></tr><tr><td>2018-09-20</td><td>&quot;00007d2de826758b65a93dd24ce629…</td><td>505221004</td><td>0.015237</td><td>2</td></tr><tr><td>2018-09-20</td><td>&quot;00007d2de826758b65a93dd24ce629…</td><td>685687003</td><td>0.016932</td><td>2</td></tr><tr><td>2018-09-20</td><td>&quot;00007d2de826758b65a93dd24ce629…</td><td>685687004</td><td>0.016932</td><td>2</td></tr></tbody></table></div>"
      ],
      "text/plain": [
       "shape: (5, 5)\n",
       "┌────────────┬─────────────────────────────────┬────────────┬──────────┬──────────────────┐\n",
       "│ t_dat      ┆ customer_id                     ┆ article_id ┆ price    ┆ sales_channel_id │\n",
       "│ ---        ┆ ---                             ┆ ---        ┆ ---      ┆ ---              │\n",
       "│ date       ┆ str                             ┆ i64        ┆ f64      ┆ i64              │\n",
       "╞════════════╪═════════════════════════════════╪════════════╪══════════╪══════════════════╡\n",
       "│ 2018-09-20 ┆ 000058a12d5b43e67d225668fa1f8d… ┆ 663713001  ┆ 0.050831 ┆ 2                │\n",
       "│ 2018-09-20 ┆ 000058a12d5b43e67d225668fa1f8d… ┆ 541518023  ┆ 0.030492 ┆ 2                │\n",
       "│ 2018-09-20 ┆ 00007d2de826758b65a93dd24ce629… ┆ 505221004  ┆ 0.015237 ┆ 2                │\n",
       "│ 2018-09-20 ┆ 00007d2de826758b65a93dd24ce629… ┆ 685687003  ┆ 0.016932 ┆ 2                │\n",
       "│ 2018-09-20 ┆ 00007d2de826758b65a93dd24ce629… ┆ 685687004  ┆ 0.016932 ┆ 2                │\n",
       "└────────────┴─────────────────────────────────┴────────────┴──────────┴──────────────────┘"
      ]
     },
     "execution_count": 4,
     "metadata": {},
     "output_type": "execute_result"
    }
   ],
   "source": [
    "# Extract transactions data\n",
    "trans_df = hm_raw_data.extract_trans_df()\n",
    "print(trans_df.shape)\n",
    "trans_df.head()"
   ]
  },
  {
   "cell_type": "markdown",
   "metadata": {},
   "source": [
    "### Feature Engineering"
   ]
  },
  {
   "cell_type": "code",
   "execution_count": 25,
   "metadata": {},
   "outputs": [
    {
     "data": {
      "text/plain": [
       "(31788324, 9)"
      ]
     },
     "execution_count": 25,
     "metadata": {},
     "output_type": "execute_result"
    }
   ],
   "source": [
    "from recosystem.feature.transactions import compute_features_transactions\n",
    "\n",
    "trans_df = compute_features_transactions(trans_df)\n",
    "trans_df.shape"
   ]
  },
  {
   "cell_type": "code",
   "execution_count": 26,
   "metadata": {},
   "outputs": [
    {
     "data": {
      "text/html": [
       "<div><style>\n",
       ".dataframe > thead > tr,\n",
       ".dataframe > tbody > tr {\n",
       "  text-align: right;\n",
       "  white-space: pre-wrap;\n",
       "}\n",
       "</style>\n",
       "<small>shape: (3, 9)</small><table border=\"1\" class=\"dataframe\"><thead><tr><th>t_dat</th><th>customer_id</th><th>article_id</th><th>price</th><th>sales_channel_id</th><th>year</th><th>month</th><th>day</th><th>day_of_week</th></tr><tr><td>i64</td><td>str</td><td>str</td><td>f64</td><td>i64</td><td>i32</td><td>i8</td><td>i8</td><td>i8</td></tr></thead><tbody><tr><td>0</td><td>&quot;000058a12d5b43e67d225668fa1f8d…</td><td>&quot;663713001&quot;</td><td>0.050831</td><td>2</td><td>2018</td><td>9</td><td>20</td><td>4</td></tr><tr><td>0</td><td>&quot;000058a12d5b43e67d225668fa1f8d…</td><td>&quot;541518023&quot;</td><td>0.030492</td><td>2</td><td>2018</td><td>9</td><td>20</td><td>4</td></tr><tr><td>0</td><td>&quot;00007d2de826758b65a93dd24ce629…</td><td>&quot;505221004&quot;</td><td>0.015237</td><td>2</td><td>2018</td><td>9</td><td>20</td><td>4</td></tr></tbody></table></div>"
      ],
      "text/plain": [
       "shape: (3, 9)\n",
       "┌───────┬───────────────────────────┬────────────┬──────────┬───┬──────┬───────┬─────┬─────────────┐\n",
       "│ t_dat ┆ customer_id               ┆ article_id ┆ price    ┆ … ┆ year ┆ month ┆ day ┆ day_of_week │\n",
       "│ ---   ┆ ---                       ┆ ---        ┆ ---      ┆   ┆ ---  ┆ ---   ┆ --- ┆ ---         │\n",
       "│ i64   ┆ str                       ┆ str        ┆ f64      ┆   ┆ i32  ┆ i8    ┆ i8  ┆ i8          │\n",
       "╞═══════╪═══════════════════════════╪════════════╪══════════╪═══╪══════╪═══════╪═════╪═════════════╡\n",
       "│ 0     ┆ 000058a12d5b43e67d225668f ┆ 663713001  ┆ 0.050831 ┆ … ┆ 2018 ┆ 9     ┆ 20  ┆ 4           │\n",
       "│       ┆ a1f8d…                    ┆            ┆          ┆   ┆      ┆       ┆     ┆             │\n",
       "│ 0     ┆ 000058a12d5b43e67d225668f ┆ 541518023  ┆ 0.030492 ┆ … ┆ 2018 ┆ 9     ┆ 20  ┆ 4           │\n",
       "│       ┆ a1f8d…                    ┆            ┆          ┆   ┆      ┆       ┆     ┆             │\n",
       "│ 0     ┆ 00007d2de826758b65a93dd24 ┆ 505221004  ┆ 0.015237 ┆ … ┆ 2018 ┆ 9     ┆ 20  ┆ 4           │\n",
       "│       ┆ ce629…                    ┆            ┆          ┆   ┆      ┆       ┆     ┆             │\n",
       "└───────┴───────────────────────────┴────────────┴──────────┴───┴──────┴───────┴─────┴─────────────┘"
      ]
     },
     "execution_count": 26,
     "metadata": {},
     "output_type": "execute_result"
    }
   ],
   "source": [
    "trans_df.head(3)"
   ]
  },
  {
   "cell_type": "code",
   "execution_count": 27,
   "metadata": {},
   "outputs": [
    {
     "name": "stderr",
     "output_type": "stream",
     "text": [
      "\u001b[32m2024-12-15 16:22:40.700\u001b[0m | \u001b[1mINFO    \u001b[0m | \u001b[36mrecosystem.feature.customers\u001b[0m:\u001b[36msample\u001b[0m:\u001b[36m29\u001b[0m - \u001b[1mSampling 1000 customers.\u001b[0m\n",
      "\u001b[32m2024-12-15 16:22:52.840\u001b[0m | \u001b[1mINFO    \u001b[0m | \u001b[36mrecosystem.feature.customers\u001b[0m:\u001b[36msample\u001b[0m:\u001b[36m32\u001b[0m - \u001b[1mNumber of transactions for all the customers: 31788324\u001b[0m\n",
      "\u001b[32m2024-12-15 16:33:55.730\u001b[0m | \u001b[1mINFO    \u001b[0m | \u001b[36mrecosystem.feature.customers\u001b[0m:\u001b[36msample\u001b[0m:\u001b[36m38\u001b[0m - \u001b[1mNumber of transactions for the 1000 sampled customers: 23799\u001b[0m\n"
     ]
    }
   ],
   "source": [
    "sampler = DatasetSampler(size=settings.CUSTOMER_DATA_SIZE)\n",
    "dataset_subset = sampler.sample(\n",
    "    customers_df=cust_df, transations_df=trans_df\n",
    ")\n",
    "customers_df = dataset_subset[\"customers\"]\n",
    "transactions_df = dataset_subset[\"transactions\"]"
   ]
  },
  {
   "cell_type": "code",
   "execution_count": 28,
   "metadata": {},
   "outputs": [
    {
     "data": {
      "text/plain": [
       "(23799, 9)"
      ]
     },
     "execution_count": 28,
     "metadata": {},
     "output_type": "execute_result"
    }
   ],
   "source": [
    "transactions_df.shape"
   ]
  },
  {
   "cell_type": "code",
   "execution_count": 29,
   "metadata": {},
   "outputs": [
    {
     "name": "stderr",
     "output_type": "stream",
     "text": [
      "\u001b[32m2024-12-15 17:12:30.489\u001b[0m | \u001b[1mINFO    \u001b[0m | \u001b[36m__main__\u001b[0m:\u001b[36m<module>\u001b[0m:\u001b[36m2\u001b[0m - \u001b[1mLogging customer ID: 2fa483b5fc2f428a1c2d4ab3a3333482295379e49538ce516be698f981c84e28\u001b[0m\n",
      "\u001b[32m2024-12-15 17:12:30.600\u001b[0m | \u001b[1mINFO    \u001b[0m | \u001b[36m__main__\u001b[0m:\u001b[36m<module>\u001b[0m:\u001b[36m2\u001b[0m - \u001b[1mLogging customer ID: c3ee93742953c27ccd148b35399c5d6715f5b846edb1de2c1b6779911b4a026a\u001b[0m\n",
      "\u001b[32m2024-12-15 17:12:30.616\u001b[0m | \u001b[1mINFO    \u001b[0m | \u001b[36m__main__\u001b[0m:\u001b[36m<module>\u001b[0m:\u001b[36m2\u001b[0m - \u001b[1mLogging customer ID: 1995cc1583e2d98342eb39ebe8defb020501a0e2dbc3622168746c358d09e359\u001b[0m\n",
      "\u001b[32m2024-12-15 17:12:30.663\u001b[0m | \u001b[1mINFO    \u001b[0m | \u001b[36m__main__\u001b[0m:\u001b[36m<module>\u001b[0m:\u001b[36m2\u001b[0m - \u001b[1mLogging customer ID: 27b8739b7aab3881a6609e33f4a260b14f95600891d7542293ae1362d8344208\u001b[0m\n",
      "\u001b[32m2024-12-15 17:12:30.724\u001b[0m | \u001b[1mINFO    \u001b[0m | \u001b[36m__main__\u001b[0m:\u001b[36m<module>\u001b[0m:\u001b[36m2\u001b[0m - \u001b[1mLogging customer ID: 3766ac699ecacca9f3b90fd0a6098dd7a517e9342e482c2852c1fd4f44c62bb9\u001b[0m\n",
      "\u001b[32m2024-12-15 17:12:30.731\u001b[0m | \u001b[1mINFO    \u001b[0m | \u001b[36m__main__\u001b[0m:\u001b[36m<module>\u001b[0m:\u001b[36m2\u001b[0m - \u001b[1mLogging customer ID: 491c9babaf0c3cd40644da84b3d395adb583aabad3960ce2f79c59f9befc3db1\u001b[0m\n",
      "\u001b[32m2024-12-15 17:12:30.731\u001b[0m | \u001b[1mINFO    \u001b[0m | \u001b[36m__main__\u001b[0m:\u001b[36m<module>\u001b[0m:\u001b[36m2\u001b[0m - \u001b[1mLogging customer ID: 2228ec528db3fc503d5d6d6ddb6f5175fcd30c6832ae735e2cbd01bf1b9945cb\u001b[0m\n",
      "\u001b[32m2024-12-15 17:12:30.731\u001b[0m | \u001b[1mINFO    \u001b[0m | \u001b[36m__main__\u001b[0m:\u001b[36m<module>\u001b[0m:\u001b[36m2\u001b[0m - \u001b[1mLogging customer ID: 241714815a45de8f093adef444a13cc37f62dd01c81ceac3e6a15d6f378a9178\u001b[0m\n",
      "\u001b[32m2024-12-15 17:12:30.762\u001b[0m | \u001b[1mINFO    \u001b[0m | \u001b[36m__main__\u001b[0m:\u001b[36m<module>\u001b[0m:\u001b[36m2\u001b[0m - \u001b[1mLogging customer ID: 42e0cd39fc3ce1bc1551a944e2cfcd5a36dc8a9385d5a9d2487fef53fe3152c6\u001b[0m\n",
      "\u001b[32m2024-12-15 17:12:30.778\u001b[0m | \u001b[1mINFO    \u001b[0m | \u001b[36m__main__\u001b[0m:\u001b[36m<module>\u001b[0m:\u001b[36m2\u001b[0m - \u001b[1mLogging customer ID: 0b24aece1cd80dd24d9498514aeaa4716bdd65ddf811e03d40fa5328aa222285\u001b[0m\n"
     ]
    }
   ],
   "source": [
    "for customer_id in transactions_df[\"customer_id\"].unique().head(10):\n",
    "    logger.info(f\"Logging customer ID: {customer_id}\")"
   ]
  },
  {
   "cell_type": "markdown",
   "metadata": {},
   "source": [
    "## Interaction Data"
   ]
  },
  {
   "cell_type": "code",
   "execution_count": null,
   "metadata": {},
   "outputs": [],
   "source": [
    "from recsys.features.interaction import generate_interaction_data\n",
    "\n",
    "interaction_df = generate_interaction_data(transactions_df)\n",
    "interaction_df.shape"
   ]
  },
  {
   "cell_type": "code",
   "execution_count": null,
   "metadata": {},
   "outputs": [],
   "source": [
    "interaction_df.head()"
   ]
  },
  {
   "cell_type": "code",
   "execution_count": null,
   "metadata": {},
   "outputs": [],
   "source": [
    "interaction_df.group_by(\"interaction_score\").agg(\n",
    "    pl.count(\"interaction_score\").alias(\"total_interactions\")\n",
    ")"
   ]
  }
 ],
 "metadata": {
  "kernelspec": {
   "display_name": ".venv",
   "language": "python",
   "name": "python3"
  },
  "language_info": {
   "codemirror_mode": {
    "name": "ipython",
    "version": 3
   },
   "file_extension": ".py",
   "mimetype": "text/x-python",
   "name": "python",
   "nbconvert_exporter": "python",
   "pygments_lexer": "ipython3",
   "version": "3.12.4"
  }
 },
 "nbformat": 4,
 "nbformat_minor": 2
}
